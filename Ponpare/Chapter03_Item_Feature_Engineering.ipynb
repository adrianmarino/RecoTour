{
 "cells": [
  {
   "cell_type": "markdown",
   "metadata": {},
   "source": [
    "## Chapter 3\n",
    "\n",
    "### 3.1 Coupon Feature Engineering.\n",
    "\n",
    "Before we jump into feature engineering let me just mention that one should always do some data exploration. Within this dataset there is not much to explore that can drastically affect the techniques one would use afterwards. However, in the real world data exploration is **mandatory**. I will leave this to the reader. For example, it might be interesting to visualize the trends of sales per week/month, what are the features of the most popular coupons, age and gender distributions, etc. Here I concentrate on the algorithms. \n",
    "\n",
    "Moving into feature engineering, here I will manually generate a series of features. The reader might want to explore the use of this nice package [featuretools](https://github.com/Featuretools/featuretools), that can automate part of the process. \n",
    "\n",
    "To start with let's assume that we have information of the upcoming coupons with some time in advance and we can compute the features using the whole dataset."
   ]
  },
  {
   "cell_type": "code",
   "execution_count": 38,
   "metadata": {},
   "outputs": [],
   "source": [
    "import pandas as pd\n",
    "import numpy as np\n",
    "import os\n",
    "import pickle\n",
    "import matplotlib.pyplot as plt\n",
    "import seaborn as sns\n",
    "\n",
    "from scipy import stats\n",
    "\n",
    "sns.set()\n",
    "%matplotlib inline\n",
    "\n",
    "inp_dir = \"./datasets/Ponpare/data_processed\"\n",
    "out_dir = \"./datasets/Ponpare/data_processed\""
   ]
  },
  {
   "cell_type": "code",
   "execution_count": 39,
   "metadata": {},
   "outputs": [
    {
     "data": {
      "text/html": [
       "<div>\n",
       "<style scoped>\n",
       "    .dataframe tbody tr th:only-of-type {\n",
       "        vertical-align: middle;\n",
       "    }\n",
       "\n",
       "    .dataframe tbody tr th {\n",
       "        vertical-align: top;\n",
       "    }\n",
       "\n",
       "    .dataframe thead th {\n",
       "        text-align: right;\n",
       "    }\n",
       "</style>\n",
       "<table border=\"1\" class=\"dataframe\">\n",
       "  <thead>\n",
       "    <tr style=\"text-align: right;\">\n",
       "      <th></th>\n",
       "      <th>capsule_text</th>\n",
       "      <th>genre_name</th>\n",
       "      <th>price_rate</th>\n",
       "      <th>catalog_price</th>\n",
       "      <th>discount_price</th>\n",
       "      <th>dispfrom</th>\n",
       "      <th>dispend</th>\n",
       "      <th>dispperiod</th>\n",
       "      <th>validfrom</th>\n",
       "      <th>validend</th>\n",
       "      <th>...</th>\n",
       "      <th>usable_date_sat</th>\n",
       "      <th>usable_date_sun</th>\n",
       "      <th>usable_date_holiday</th>\n",
       "      <th>usable_date_before_holiday</th>\n",
       "      <th>large_area_name</th>\n",
       "      <th>ken_name</th>\n",
       "      <th>small_area_name</th>\n",
       "      <th>coupon_id_hash</th>\n",
       "      <th>days_to_present</th>\n",
       "      <th>set_type</th>\n",
       "    </tr>\n",
       "  </thead>\n",
       "  <tbody>\n",
       "    <tr>\n",
       "      <th>0</th>\n",
       "      <td>Food</td>\n",
       "      <td>Food</td>\n",
       "      <td>50</td>\n",
       "      <td>3000</td>\n",
       "      <td>1500</td>\n",
       "      <td>2011-07-08 12:00:00</td>\n",
       "      <td>2011-07-09 12:00:00</td>\n",
       "      <td>1</td>\n",
       "      <td>2011-07-10</td>\n",
       "      <td>2011-12-08</td>\n",
       "      <td>...</td>\n",
       "      <td>0.0</td>\n",
       "      <td>1.0</td>\n",
       "      <td>1.0</td>\n",
       "      <td>0.0</td>\n",
       "      <td>kanto</td>\n",
       "      <td>saitama</td>\n",
       "      <td>saitama</td>\n",
       "      <td>6b263844241eea98c5a97f1335ea82af</td>\n",
       "      <td>351</td>\n",
       "      <td>2</td>\n",
       "    </tr>\n",
       "    <tr>\n",
       "      <th>1</th>\n",
       "      <td>Food</td>\n",
       "      <td>Food</td>\n",
       "      <td>51</td>\n",
       "      <td>2080</td>\n",
       "      <td>1000</td>\n",
       "      <td>2011-07-01 12:00:00</td>\n",
       "      <td>2011-07-02 12:00:00</td>\n",
       "      <td>1</td>\n",
       "      <td>2011-07-03</td>\n",
       "      <td>2011-12-04</td>\n",
       "      <td>...</td>\n",
       "      <td>1.0</td>\n",
       "      <td>1.0</td>\n",
       "      <td>1.0</td>\n",
       "      <td>1.0</td>\n",
       "      <td>kanto</td>\n",
       "      <td>chiba</td>\n",
       "      <td>chiba</td>\n",
       "      <td>cc031f250e8bad1e24060263b9fc0ddd</td>\n",
       "      <td>358</td>\n",
       "      <td>2</td>\n",
       "    </tr>\n",
       "    <tr>\n",
       "      <th>2</th>\n",
       "      <td>Food</td>\n",
       "      <td>Food</td>\n",
       "      <td>50</td>\n",
       "      <td>7000</td>\n",
       "      <td>3500</td>\n",
       "      <td>2011-07-12 12:00:00</td>\n",
       "      <td>2011-07-15 12:00:00</td>\n",
       "      <td>3</td>\n",
       "      <td>2011-07-16</td>\n",
       "      <td>2012-01-11</td>\n",
       "      <td>...</td>\n",
       "      <td>1.0</td>\n",
       "      <td>1.0</td>\n",
       "      <td>1.0</td>\n",
       "      <td>1.0</td>\n",
       "      <td>kanto</td>\n",
       "      <td>chiba</td>\n",
       "      <td>chiba</td>\n",
       "      <td>ba5e9b7453ca52ff711635a5d2e8102d</td>\n",
       "      <td>347</td>\n",
       "      <td>2</td>\n",
       "    </tr>\n",
       "    <tr>\n",
       "      <th>3</th>\n",
       "      <td>Food</td>\n",
       "      <td>Food</td>\n",
       "      <td>50</td>\n",
       "      <td>3000</td>\n",
       "      <td>1500</td>\n",
       "      <td>2011-07-09 12:00:00</td>\n",
       "      <td>2011-07-11 12:00:00</td>\n",
       "      <td>2</td>\n",
       "      <td>2011-07-12</td>\n",
       "      <td>2011-12-01</td>\n",
       "      <td>...</td>\n",
       "      <td>0.0</td>\n",
       "      <td>1.0</td>\n",
       "      <td>1.0</td>\n",
       "      <td>1.0</td>\n",
       "      <td>kanto</td>\n",
       "      <td>chiba</td>\n",
       "      <td>chiba</td>\n",
       "      <td>3e1ffbedca3569f9e8032d401e8cb4e6</td>\n",
       "      <td>350</td>\n",
       "      <td>2</td>\n",
       "    </tr>\n",
       "    <tr>\n",
       "      <th>4</th>\n",
       "      <td>Food</td>\n",
       "      <td>Food</td>\n",
       "      <td>50</td>\n",
       "      <td>2000</td>\n",
       "      <td>1000</td>\n",
       "      <td>2011-07-05 12:00:00</td>\n",
       "      <td>2011-07-06 12:00:00</td>\n",
       "      <td>1</td>\n",
       "      <td>2011-07-07</td>\n",
       "      <td>2011-12-30</td>\n",
       "      <td>...</td>\n",
       "      <td>0.0</td>\n",
       "      <td>1.0</td>\n",
       "      <td>1.0</td>\n",
       "      <td>0.0</td>\n",
       "      <td>kanto</td>\n",
       "      <td>chiba</td>\n",
       "      <td>chiba</td>\n",
       "      <td>782934b6c815b4030ea204eef7d4a734</td>\n",
       "      <td>354</td>\n",
       "      <td>2</td>\n",
       "    </tr>\n",
       "  </tbody>\n",
       "</table>\n",
       "<p>5 rows × 26 columns</p>\n",
       "</div>"
      ],
      "text/plain": [
       "  capsule_text genre_name  price_rate  catalog_price  discount_price  \\\n",
       "0         Food       Food          50           3000            1500   \n",
       "1         Food       Food          51           2080            1000   \n",
       "2         Food       Food          50           7000            3500   \n",
       "3         Food       Food          50           3000            1500   \n",
       "4         Food       Food          50           2000            1000   \n",
       "\n",
       "             dispfrom             dispend  dispperiod  validfrom   validend  \\\n",
       "0 2011-07-08 12:00:00 2011-07-09 12:00:00           1 2011-07-10 2011-12-08   \n",
       "1 2011-07-01 12:00:00 2011-07-02 12:00:00           1 2011-07-03 2011-12-04   \n",
       "2 2011-07-12 12:00:00 2011-07-15 12:00:00           3 2011-07-16 2012-01-11   \n",
       "3 2011-07-09 12:00:00 2011-07-11 12:00:00           2 2011-07-12 2011-12-01   \n",
       "4 2011-07-05 12:00:00 2011-07-06 12:00:00           1 2011-07-07 2011-12-30   \n",
       "\n",
       "   ...  usable_date_sat  usable_date_sun  usable_date_holiday  \\\n",
       "0  ...              0.0              1.0                  1.0   \n",
       "1  ...              1.0              1.0                  1.0   \n",
       "2  ...              1.0              1.0                  1.0   \n",
       "3  ...              0.0              1.0                  1.0   \n",
       "4  ...              0.0              1.0                  1.0   \n",
       "\n",
       "   usable_date_before_holiday  large_area_name  ken_name  small_area_name  \\\n",
       "0                         0.0            kanto   saitama          saitama   \n",
       "1                         1.0            kanto     chiba            chiba   \n",
       "2                         1.0            kanto     chiba            chiba   \n",
       "3                         1.0            kanto     chiba            chiba   \n",
       "4                         0.0            kanto     chiba            chiba   \n",
       "\n",
       "                     coupon_id_hash  days_to_present  set_type  \n",
       "0  6b263844241eea98c5a97f1335ea82af              351         2  \n",
       "1  cc031f250e8bad1e24060263b9fc0ddd              358         2  \n",
       "2  ba5e9b7453ca52ff711635a5d2e8102d              347         2  \n",
       "3  3e1ffbedca3569f9e8032d401e8cb4e6              350         2  \n",
       "4  782934b6c815b4030ea204eef7d4a734              354         2  \n",
       "\n",
       "[5 rows x 26 columns]"
      ]
     },
     "execution_count": 39,
     "metadata": {},
     "output_type": "execute_result"
    }
   ],
   "source": [
    "# Coupon features\n",
    "df_coupons_train = pd.read_pickle(os.path.join(inp_dir, 'train', 'df_coupons_train.p'))\n",
    "df_coupons_train['set_type'] = 2\n",
    "\n",
    "df_coupons_valid = pd.read_pickle(os.path.join(inp_dir, 'valid', 'df_coupons_valid.p'))\n",
    "df_coupons_valid['set_type'] = 1\n",
    "\n",
    "df_coupons_test  = pd.read_pickle(os.path.join(inp_dir, 'test', 'df_coupons_test.p'))\n",
    "df_coupons_test['set_type'] = 0\n",
    "\n",
    "df_coupons = pd.concat(\n",
    "    [ df_coupons_train, df_coupons_valid, df_coupons_test ],\n",
    "    axis=0,\n",
    "    ignore_index=True\n",
    ")\n",
    "\n",
    "df_coupons.head()"
   ]
  },
  {
   "cell_type": "markdown",
   "metadata": {},
   "source": [
    "Let's have a slighly closer look to some of the features (you can go ahead and explore the rest)"
   ]
  },
  {
   "cell_type": "code",
   "execution_count": 40,
   "metadata": {},
   "outputs": [
    {
     "data": {
      "text/plain": [
       "Text(0.5, 1.0, 'Catalog Price Distribution')"
      ]
     },
     "execution_count": 40,
     "metadata": {},
     "output_type": "execute_result"
    },
    {
     "data": {
      "image/png": "[encoded data removed]",
      "text/plain": [
       "<Figure size 1008x432 with 2 Axes>"
      ]
     },
     "metadata": {
      "needs_background": "light"
     },
     "output_type": "display_data"
    }
   ],
   "source": [
    "plt.subplot(1, 2, 1)\n",
    "(df_coupons['catalog_price']).plot.hist(\n",
    "    bins=40, figsize=(14, 6), edgecolor = 'white', range = [0, 100000]\n",
    ")\n",
    "plt.xlabel('catalog_price', fontsize=14)\n",
    "plt.title('Catalog Price Distribution', fontsize=14)\n",
    "\n",
    "plt.subplot(1, 2, 2)\n",
    "np.log(df_coupons['catalog_price']+1).plot.hist(\n",
    "    bins=40, figsize=(14,6), edgecolor='white'\n",
    ")\n",
    "plt.xlabel('log(catalog_price+1)', fontsize=14)\n",
    "plt.title('Catalog Price Distribution', fontsize=14)"
   ]
  },
  {
   "cell_type": "code",
   "execution_count": 41,
   "metadata": {},
   "outputs": [
    {
     "data": {
      "text/plain": [
       "Delivery service         5841\n",
       "Food                     3658\n",
       "Hotel                    1943\n",
       "Hair salon               1436\n",
       "Japanese hotel           1351\n",
       "Relaxation               1089\n",
       "Other                     827\n",
       "Spa                       758\n",
       "Lesson                    673\n",
       "Leisure                   664\n",
       "Nail and eye salon        626\n",
       "Gift card                 104\n",
       "Resort inn                103\n",
       "Japanse guest house        99\n",
       "Health and medical         55\n",
       "Beauty                     43\n",
       "Web service                42\n",
       "Vacation rental            28\n",
       "Lodge                      24\n",
       "Guest house                13\n",
       "Correspondence course      12\n",
       "Class                      11\n",
       "Public hotel                9\n",
       "Event                       4\n",
       "Name: capsule_text, dtype: int64"
      ]
     },
     "execution_count": 41,
     "metadata": {},
     "output_type": "execute_result"
    }
   ],
   "source": [
    "df_coupons.capsule_text.value_counts()"
   ]
  },
  {
   "cell_type": "code",
   "execution_count": 42,
   "metadata": {},
   "outputs": [
    {
     "data": {
      "text/plain": [
       "Delivery service            5841\n",
       "Food                        3658\n",
       "Hotel and Japanese hotel    3570\n",
       "Hair salon                  1436\n",
       "Relaxation                  1089\n",
       "Other coupon                 873\n",
       "Spa                          758\n",
       "Lesson                       696\n",
       "Leisure                      664\n",
       "Nail and eye salon           626\n",
       "Gift card                    104\n",
       "Health and medical            55\n",
       "Beauty                        43\n",
       "Name: genre_name, dtype: int64"
      ]
     },
     "execution_count": 42,
     "metadata": {},
     "output_type": "execute_result"
    }
   ],
   "source": [
    "df_coupons.genre_name.value_counts()"
   ]
  },
  {
   "cell_type": "code",
   "execution_count": 43,
   "metadata": {},
   "outputs": [
    {
     "name": "stdout",
     "output_type": "stream",
     "text": [
      "['validfrom', 'validend', 'validperiod', 'usable_date_mon', 'usable_date_tue', 'usable_date_wed', 'usable_date_thu', 'usable_date_fri', 'usable_date_sat', 'usable_date_sun', 'usable_date_holiday', 'usable_date_before_holiday']\n"
     ]
    }
   ],
   "source": [
    "# columns with NaN\n",
    "has_nan = df_coupons.isnull().any(axis=0)\n",
    "has_nan = [df_coupons.columns[i] for i in np.where(has_nan)[0]]\n",
    "\n",
    "print(has_nan)"
   ]
  },
  {
   "cell_type": "code",
   "execution_count": 44,
   "metadata": {},
   "outputs": [
    {
     "data": {
      "text/plain": [
       "['usable_date_mon',\n",
       " 'usable_date_tue',\n",
       " 'usable_date_wed',\n",
       " 'usable_date_thu',\n",
       " 'usable_date_fri',\n",
       " 'usable_date_sat',\n",
       " 'usable_date_sun',\n",
       " 'usable_date_holiday',\n",
       " 'usable_date_before_holiday']"
      ]
     },
     "execution_count": 44,
     "metadata": {},
     "output_type": "execute_result"
    }
   ],
   "source": [
    "has_nan[3:]"
   ]
  },
  {
   "cell_type": "markdown",
   "metadata": {},
   "source": [
    "#### NaN as another category\n",
    "\n",
    "Interestingly, all features with NaN are time-related. There are a number of ways one could replace the `NaNs` (e.g. using the mode in the column). Here I will treat NaNs as if they were another category for all but the first 3 columns (Read Below)."
   ]
  },
  {
   "cell_type": "code",
   "execution_count": 45,
   "metadata": {},
   "outputs": [],
   "source": [
    "for col in has_nan[3:]:\n",
    "    df_coupons[col] = df_coupons[col].fillna(3).astype('int')"
   ]
  },
  {
   "cell_type": "markdown",
   "metadata": {},
   "source": [
    "Let's have a quick look to the the feature validperiod"
   ]
  },
  {
   "cell_type": "code",
   "execution_count": 46,
   "metadata": {},
   "outputs": [
    {
     "data": {
      "text/plain": [
       "Delivery service         5821\n",
       "Lesson                    260\n",
       "Gift card                  52\n",
       "Correspondence course      12\n",
       "Other                       1\n",
       "Leisure                     1\n",
       "Name: capsule_text, dtype: int64"
      ]
     },
     "execution_count": 46,
     "metadata": {},
     "output_type": "execute_result"
    }
   ],
   "source": [
    "df_coupons[df_coupons.validperiod.isna()]['capsule_text'].value_counts()"
   ]
  },
  {
   "cell_type": "markdown",
   "metadata": {},
   "source": [
    "On the other hand, 6147 of the 19413 `validperiod` values are `NaN`. 5821 of those are of type `\"Delivery service\"`. In the case of the `\"Correspondence course\"` *all* observations have `validperiod` value `NaN` and `\"Other\"` and `\"Leisure\"` only have one entry with `NaN`. There is a chance that those coupons with no `validperiod` \"last forever\". \n",
    "\n",
    "We will explore here two possible methods to fill `NaN` for the `validperiod` column\n",
    "\n",
    "#### validperiod Method 1: NaN as another category\n",
    "\n",
    "**Note**: maybe one could to consider coupons with a `validperiod` of 0 as a class. For now, we will simply use quatiles"
   ]
  },
  {
   "cell_type": "code",
   "execution_count": 50,
   "metadata": {},
   "outputs": [],
   "source": [
    "df_coupons['validperiod_method1_cat'], validperiod_bins_method1 = \\\n",
    "    pd.qcut(df_coupons['validperiod'], q=4, labels=[0,1,2,3], retbins=True)\n",
    "\n",
    "df_coupons.validperiod_method1_cat.cat.add_categories([4], inplace=True)\n",
    "\n",
    "df_coupons['validperiod_method1_cat'].fillna(4, inplace=True)"
   ]
  },
  {
   "cell_type": "markdown",
   "metadata": {},
   "source": [
    "#### validperiod Method 2: replace NaN first and then into categorical"
   ]
  },
  {
   "cell_type": "markdown",
   "metadata": {},
   "source": [
    "Toma la moda (El valor con mayor frecuencia), de **validperiod** que es el nume de dias entre **validfrom** y **validend**. "
   ]
  },
  {
   "cell_type": "code",
   "execution_count": 52,
   "metadata": {},
   "outputs": [
    {
     "data": {
      "text/plain": [
       "178.0"
      ]
     },
     "execution_count": 52,
     "metadata": {},
     "output_type": "execute_result"
    }
   ],
   "source": [
    "validperiod_mode = df_coupons.validperiod.mode().values[0]\n",
    "validperiod_mode "
   ]
  },
  {
   "cell_type": "markdown",
   "metadata": {},
   "source": [
    "Categorias de cupones un **validperiod**:"
   ]
  },
  {
   "cell_type": "code",
   "execution_count": 51,
   "metadata": {},
   "outputs": [
    {
     "data": {
      "text/plain": [
       "['Delivery service',\n",
       " 'Lesson',\n",
       " 'Gift card',\n",
       " 'Correspondence course',\n",
       " 'Other',\n",
       " 'Leisure']"
      ]
     },
     "execution_count": 51,
     "metadata": {},
     "output_type": "execute_result"
    }
   ],
   "source": [
    "caps_vals = list(df_coupons[df_coupons.validperiod.isna()]['capsule_text'].value_counts().index)\n",
    "caps_vals"
   ]
  },
  {
   "cell_type": "code",
   "execution_count": 54,
   "metadata": {},
   "outputs": [],
   "source": [
    "for ct in caps_vals:\n",
    "    non_nan_values = df_coupons[\n",
    "        \n",
    "        (df_coupons.capsule_text == ct) &\n",
    "        (~df_coupons.validperiod.isna())\n",
    "        \n",
    "    ]['validperiod'].values\n",
    "\n",
    "    nan_idx = list(\n",
    "        df_coupons[\n",
    "            (df_coupons.capsule_text == ct) &\n",
    "            (df_coupons.validperiod.isna())\n",
    "        ].index\n",
    "    )\n",
    "    \n",
    "    # Note that '50' is rather arbitray \n",
    "    if (len(nan_idx)>50) & (non_nan_values.size>0):\n",
    "        replace_vals = np.random.choice(non_nan_values, len(nan_idx))\n",
    "        df_coupons.loc[nan_idx, 'validperiod'] = replace_vals\n",
    "    \n",
    "    elif (len(nan_idx)<=50) & (non_nan_values.size>0):\n",
    "        median = np.median(non_nan_values)\n",
    "        df_coupons.loc[nan_idx, 'validperiod'] = median\n",
    "    \n",
    "    elif non_nan_values.size==0:\n",
    "        df_coupons.loc[nan_idx, 'validperiod'] = validperiod_mode\n",
    "        \n",
    "        \n",
    "df_coupons['validperiod_method2_cat'] = pd.cut(\n",
    "    df_coupons['validperiod'],\n",
    "    bins=validperiod_bins_method1, \n",
    "    labels=[0,1,2,3], \n",
    "    include_lowest=True\n",
    ")\n",
    "\n",
    "df_coupons['validperiod'] = df_coupons['validperiod'].astype('int')"
   ]
  },
  {
   "cell_type": "code",
   "execution_count": 12,
   "metadata": {},
   "outputs": [],
   "source": [
    "# let's save the mappings. This dictionary will be fundamental in moving forward\n",
    "dict_of_mappings = {}\n",
    "dict_of_mappings['validperiod_cat'] = validperiod_bins_method1"
   ]
  },
  {
   "cell_type": "markdown",
   "metadata": {},
   "source": [
    "#### validfrom and validend"
   ]
  },
  {
   "cell_type": "code",
   "execution_count": 13,
   "metadata": {},
   "outputs": [],
   "source": [
    "# Let's now take care of validfrom and validend\n",
    "valid_cols = ['validfrom', 'validend']\n",
    "\n",
    "for col in valid_cols:\n",
    "    valid_mode = df_coupons[col].dt.dayofweek.mode().values[0]\n",
    "\n",
    "    # Method 1: NaN as another category\n",
    "    new_colname_1 = col+\"_method1_cat\"\n",
    "    df_coupons[new_colname_1] = df_coupons[col].dt.dayofweek\n",
    "    df_coupons[new_colname_1] = df_coupons[new_colname_1].fillna(7).astype('int')\n",
    "\n",
    "    # Method 2: replace and to category\n",
    "    new_colname_2 = col+\"_method2_cat\"\n",
    "    df_coupons[new_colname_2] = df_coupons[col].dt.dayofweek\n",
    "    caps_vals = list(df_coupons[df_coupons[new_colname_2].isna()]['capsule_text'].value_counts().index)\n",
    "    \n",
    "    for ct in caps_vals:\n",
    "        non_nan_values = df_coupons[(df_coupons.capsule_text == ct) &\n",
    "            (~df_coupons[new_colname_2].isna())][new_colname_2].values\n",
    "        nan_idx = list(df_coupons[(df_coupons.capsule_text == ct) &\n",
    "            (df_coupons[new_colname_2].isna())].index)\n",
    "    \n",
    "        if (len(nan_idx)>50) & (non_nan_values.size>0):\n",
    "            replace_vals = np.random.choice(non_nan_values, len(nan_idx))\n",
    "            df_coupons.loc[nan_idx, new_colname_2] = replace_vals\n",
    "        \n",
    "        elif (len(nan_idx)<=50) & (non_nan_values.size>0):\n",
    "            mode = stats.mode(non_nan_values).mode[0]\n",
    "            df_coupons.loc[nan_idx, new_colname_2] = mode\n",
    "        \n",
    "        elif non_nan_values.size==0:\n",
    "            df_coupons.loc[nan_idx, new_colname_2] = valid_mode\n",
    "    \n",
    "    df_coupons[new_colname_2] = df_coupons[new_colname_2].astype('int')"
   ]
  },
  {
   "cell_type": "markdown",
   "metadata": {},
   "source": [
    "#### dispfrom, dispend and dispperiod"
   ]
  },
  {
   "cell_type": "code",
   "execution_count": 14,
   "metadata": {},
   "outputs": [],
   "source": [
    "df_coupons['dispfrom_cat'] = df_coupons.dispfrom.dt.dayofweek\n",
    "df_coupons['dispend_cat'] = df_coupons.dispend.dt.dayofweek\n",
    "\n",
    "# also add dispperiod as categorical\n",
    "df_coupons['dispperiod_cat'], dispperiod_bins = pd.qcut(df_coupons.dispperiod, q=4, labels=[0,1,2,3], retbins=True)\n",
    "dict_of_mappings['dispperiod_cat'] = dispperiod_bins"
   ]
  },
  {
   "cell_type": "markdown",
   "metadata": {},
   "source": [
    "#### price related features"
   ]
  },
  {
   "cell_type": "code",
   "execution_count": 15,
   "metadata": {},
   "outputs": [],
   "source": [
    "df_coupons['price_rate_cat'], price_rate_bins = pd.qcut(df_coupons['price_rate'], q=3, labels=[0,1,2], retbins=True)\n",
    "\n",
    "df_coupons['catalog_price_cat'], catalog_price_bins = pd.qcut(df_coupons['catalog_price'], q=3, labels=[0,1,2], retbins=True)\n",
    "\n",
    "df_coupons['discount_price_cat'], discount_price_bins = pd.qcut(df_coupons['discount_price'], q=3, labels=[0,1,2], retbins=True)"
   ]
  },
  {
   "cell_type": "code",
   "execution_count": 16,
   "metadata": {},
   "outputs": [],
   "source": [
    "# Update dictionary of mappings\n",
    "dict_of_mappings['price_rate_cat'] = price_rate_bins\n",
    "dict_of_mappings['catalog_price_cat'] = catalog_price_bins\n",
    "dict_of_mappings['discount_price_cat'] = discount_price_bins"
   ]
  },
  {
   "cell_type": "markdown",
   "metadata": {},
   "source": [
    "#### Final encoding"
   ]
  },
  {
   "cell_type": "code",
   "execution_count": 17,
   "metadata": {},
   "outputs": [],
   "source": [
    "# Finally let's LabelEncode some additional features. I will do it\n",
    "# manually since I want to keep the mappings (as opposed as using LabelEncoder in sklearn)\n",
    "\n",
    "le_cols = ['capsule_text', 'genre_name', 'large_area_name', 'ken_name', 'small_area_name']\n",
    "\n",
    "\n",
    "for col in le_cols:\n",
    "    dict_of_mappings[col+\"_cat\"] = {}\n",
    "    \n",
    "    values = list(df_coupons[col].unique())\n",
    "    \n",
    "    labels = list(np.arange(len(values)))\n",
    "    \n",
    "    dict_of_mappings[col+\"_cat\"] = dict(zip(values,labels))\n",
    "    \n",
    "    df_coupons[col+'_cat'] = df_coupons[col].replace(dict_of_mappings[col+\"_cat\"])\n",
    "\n",
    "drop_cols = le_cols + ['dispfrom', 'dispend', 'validfrom', 'validend', 'days_to_present']\n",
    "df_coupons.drop(drop_cols, axis=1, inplace=True)\n",
    "\n",
    "\n",
    "# for convenience later, let's add the suffix \"cat\" to usable_date columns\n",
    "usable_date_cols_dict = {c:c+\"_cat\" for c in df_coupons.columns if 'usable' in c}\n",
    "\n",
    "df_coupons.rename(index=str, columns=usable_date_cols_dict, inplace=True)\n",
    "\n",
    "\n",
    "# split back to the original datasets\n",
    "df_coupons_train = (df_coupons[df_coupons.set_type == 2]\n",
    "    .drop('set_type', axis=1)\n",
    "    .reset_index(drop=True))\n",
    "\n",
    "df_coupons_valid = (df_coupons[df_coupons.set_type == 1]\n",
    "    .drop('set_type', axis=1)\n",
    "    .reset_index(drop=True))\n",
    "\n",
    "df_coupons_test = (df_coupons[df_coupons.set_type == 0]\n",
    "    .drop('set_type', axis=1)\n",
    "    .reset_index(drop=True))"
   ]
  },
  {
   "cell_type": "code",
   "execution_count": 35,
   "metadata": {},
   "outputs": [
    {
     "data": {
      "text/html": [
       "<div>\n",
       "<style scoped>\n",
       "    .dataframe tbody tr th:only-of-type {\n",
       "        vertical-align: middle;\n",
       "    }\n",
       "\n",
       "    .dataframe tbody tr th {\n",
       "        vertical-align: top;\n",
       "    }\n",
       "\n",
       "    .dataframe thead th {\n",
       "        text-align: right;\n",
       "    }\n",
       "</style>\n",
       "<table border=\"1\" class=\"dataframe\">\n",
       "  <thead>\n",
       "    <tr style=\"text-align: right;\">\n",
       "      <th></th>\n",
       "      <th>capsule_text</th>\n",
       "      <th>genre_name</th>\n",
       "      <th>price_rate</th>\n",
       "      <th>catalog_price</th>\n",
       "      <th>discount_price</th>\n",
       "      <th>dispfrom</th>\n",
       "      <th>dispend</th>\n",
       "      <th>dispperiod</th>\n",
       "      <th>validfrom</th>\n",
       "      <th>validend</th>\n",
       "      <th>...</th>\n",
       "      <th>usable_date_sun</th>\n",
       "      <th>usable_date_holiday</th>\n",
       "      <th>usable_date_before_holiday</th>\n",
       "      <th>large_area_name</th>\n",
       "      <th>ken_name</th>\n",
       "      <th>small_area_name</th>\n",
       "      <th>coupon_id_hash</th>\n",
       "      <th>days_to_present</th>\n",
       "      <th>set_type</th>\n",
       "      <th>validperiod_method2_cat</th>\n",
       "    </tr>\n",
       "  </thead>\n",
       "  <tbody>\n",
       "    <tr>\n",
       "      <th>0</th>\n",
       "      <td>Food</td>\n",
       "      <td>Food</td>\n",
       "      <td>50</td>\n",
       "      <td>3000</td>\n",
       "      <td>1500</td>\n",
       "      <td>2011-07-08 12:00:00</td>\n",
       "      <td>2011-07-09 12:00:00</td>\n",
       "      <td>1</td>\n",
       "      <td>2011-07-10</td>\n",
       "      <td>2011-12-08</td>\n",
       "      <td>...</td>\n",
       "      <td>1.0</td>\n",
       "      <td>1.0</td>\n",
       "      <td>0.0</td>\n",
       "      <td>kanto</td>\n",
       "      <td>saitama</td>\n",
       "      <td>saitama</td>\n",
       "      <td>6b263844241eea98c5a97f1335ea82af</td>\n",
       "      <td>351</td>\n",
       "      <td>2</td>\n",
       "      <td>2</td>\n",
       "    </tr>\n",
       "    <tr>\n",
       "      <th>1</th>\n",
       "      <td>Food</td>\n",
       "      <td>Food</td>\n",
       "      <td>51</td>\n",
       "      <td>2080</td>\n",
       "      <td>1000</td>\n",
       "      <td>2011-07-01 12:00:00</td>\n",
       "      <td>2011-07-02 12:00:00</td>\n",
       "      <td>1</td>\n",
       "      <td>2011-07-03</td>\n",
       "      <td>2011-12-04</td>\n",
       "      <td>...</td>\n",
       "      <td>1.0</td>\n",
       "      <td>1.0</td>\n",
       "      <td>1.0</td>\n",
       "      <td>kanto</td>\n",
       "      <td>chiba</td>\n",
       "      <td>chiba</td>\n",
       "      <td>cc031f250e8bad1e24060263b9fc0ddd</td>\n",
       "      <td>358</td>\n",
       "      <td>2</td>\n",
       "      <td>2</td>\n",
       "    </tr>\n",
       "    <tr>\n",
       "      <th>2</th>\n",
       "      <td>Food</td>\n",
       "      <td>Food</td>\n",
       "      <td>50</td>\n",
       "      <td>7000</td>\n",
       "      <td>3500</td>\n",
       "      <td>2011-07-12 12:00:00</td>\n",
       "      <td>2011-07-15 12:00:00</td>\n",
       "      <td>3</td>\n",
       "      <td>2011-07-16</td>\n",
       "      <td>2012-01-11</td>\n",
       "      <td>...</td>\n",
       "      <td>1.0</td>\n",
       "      <td>1.0</td>\n",
       "      <td>1.0</td>\n",
       "      <td>kanto</td>\n",
       "      <td>chiba</td>\n",
       "      <td>chiba</td>\n",
       "      <td>ba5e9b7453ca52ff711635a5d2e8102d</td>\n",
       "      <td>347</td>\n",
       "      <td>2</td>\n",
       "      <td>3</td>\n",
       "    </tr>\n",
       "    <tr>\n",
       "      <th>3</th>\n",
       "      <td>Food</td>\n",
       "      <td>Food</td>\n",
       "      <td>50</td>\n",
       "      <td>3000</td>\n",
       "      <td>1500</td>\n",
       "      <td>2011-07-09 12:00:00</td>\n",
       "      <td>2011-07-11 12:00:00</td>\n",
       "      <td>2</td>\n",
       "      <td>2011-07-12</td>\n",
       "      <td>2011-12-01</td>\n",
       "      <td>...</td>\n",
       "      <td>1.0</td>\n",
       "      <td>1.0</td>\n",
       "      <td>1.0</td>\n",
       "      <td>kanto</td>\n",
       "      <td>chiba</td>\n",
       "      <td>chiba</td>\n",
       "      <td>3e1ffbedca3569f9e8032d401e8cb4e6</td>\n",
       "      <td>350</td>\n",
       "      <td>2</td>\n",
       "      <td>2</td>\n",
       "    </tr>\n",
       "    <tr>\n",
       "      <th>4</th>\n",
       "      <td>Food</td>\n",
       "      <td>Food</td>\n",
       "      <td>50</td>\n",
       "      <td>2000</td>\n",
       "      <td>1000</td>\n",
       "      <td>2011-07-05 12:00:00</td>\n",
       "      <td>2011-07-06 12:00:00</td>\n",
       "      <td>1</td>\n",
       "      <td>2011-07-07</td>\n",
       "      <td>2011-12-30</td>\n",
       "      <td>...</td>\n",
       "      <td>1.0</td>\n",
       "      <td>1.0</td>\n",
       "      <td>0.0</td>\n",
       "      <td>kanto</td>\n",
       "      <td>chiba</td>\n",
       "      <td>chiba</td>\n",
       "      <td>782934b6c815b4030ea204eef7d4a734</td>\n",
       "      <td>354</td>\n",
       "      <td>2</td>\n",
       "      <td>2</td>\n",
       "    </tr>\n",
       "  </tbody>\n",
       "</table>\n",
       "<p>5 rows × 27 columns</p>\n",
       "</div>"
      ],
      "text/plain": [
       "  capsule_text genre_name  price_rate  catalog_price  discount_price  \\\n",
       "0         Food       Food          50           3000            1500   \n",
       "1         Food       Food          51           2080            1000   \n",
       "2         Food       Food          50           7000            3500   \n",
       "3         Food       Food          50           3000            1500   \n",
       "4         Food       Food          50           2000            1000   \n",
       "\n",
       "             dispfrom             dispend  dispperiod  validfrom   validend  \\\n",
       "0 2011-07-08 12:00:00 2011-07-09 12:00:00           1 2011-07-10 2011-12-08   \n",
       "1 2011-07-01 12:00:00 2011-07-02 12:00:00           1 2011-07-03 2011-12-04   \n",
       "2 2011-07-12 12:00:00 2011-07-15 12:00:00           3 2011-07-16 2012-01-11   \n",
       "3 2011-07-09 12:00:00 2011-07-11 12:00:00           2 2011-07-12 2011-12-01   \n",
       "4 2011-07-05 12:00:00 2011-07-06 12:00:00           1 2011-07-07 2011-12-30   \n",
       "\n",
       "   ...  usable_date_sun  usable_date_holiday  usable_date_before_holiday  \\\n",
       "0  ...              1.0                  1.0                         0.0   \n",
       "1  ...              1.0                  1.0                         1.0   \n",
       "2  ...              1.0                  1.0                         1.0   \n",
       "3  ...              1.0                  1.0                         1.0   \n",
       "4  ...              1.0                  1.0                         0.0   \n",
       "\n",
       "   large_area_name  ken_name  small_area_name  \\\n",
       "0            kanto   saitama          saitama   \n",
       "1            kanto     chiba            chiba   \n",
       "2            kanto     chiba            chiba   \n",
       "3            kanto     chiba            chiba   \n",
       "4            kanto     chiba            chiba   \n",
       "\n",
       "                     coupon_id_hash  days_to_present  set_type  \\\n",
       "0  6b263844241eea98c5a97f1335ea82af              351         2   \n",
       "1  cc031f250e8bad1e24060263b9fc0ddd              358         2   \n",
       "2  ba5e9b7453ca52ff711635a5d2e8102d              347         2   \n",
       "3  3e1ffbedca3569f9e8032d401e8cb4e6              350         2   \n",
       "4  782934b6c815b4030ea204eef7d4a734              354         2   \n",
       "\n",
       "   validperiod_method2_cat  \n",
       "0                        2  \n",
       "1                        2  \n",
       "2                        3  \n",
       "3                        2  \n",
       "4                        2  \n",
       "\n",
       "[5 rows x 27 columns]"
      ]
     },
     "execution_count": 35,
     "metadata": {},
     "output_type": "execute_result"
    }
   ],
   "source": [
    "# Let's have a look to the resulting df\n",
    "df_coupons.head()"
   ]
  },
  {
   "cell_type": "markdown",
   "metadata": {},
   "source": [
    "#### save"
   ]
  },
  {
   "cell_type": "code",
   "execution_count": 36,
   "metadata": {},
   "outputs": [],
   "source": [
    "# save files\n",
    "df_coupons_train.to_pickle(os.path.join(out_dir,\"train\",\"df_coupons_train_feat.p\"))\n",
    "df_coupons_valid.to_pickle(os.path.join(out_dir,\"valid\",\"df_coupons_valid_feat.p\"))\n",
    "df_coupons_test.to_pickle(os.path.join(out_dir,\"test\",\"df_coupons_test_feat.p\"))\n",
    "\n",
    "# save dictionary\n",
    "pickle.dump(dict_of_mappings, open(os.path.join(out_dir, 'dict_of_mappings.p'), 'wb') )"
   ]
  },
  {
   "cell_type": "code",
   "execution_count": null,
   "metadata": {},
   "outputs": [],
   "source": []
  }
 ],
 "metadata": {
  "kernelspec": {
   "display_name": "Python 3",
   "language": "python",
   "name": "python3"
  },
  "language_info": {
   "codemirror_mode": {
    "name": "ipython",
    "version": 3
   },
   "file_extension": ".py",
   "mimetype": "text/x-python",
   "name": "python",
   "nbconvert_exporter": "python",
   "pygments_lexer": "ipython3",
   "version": "3.8.3"
  }
 },
 "nbformat": 4,
 "nbformat_minor": 4
}
